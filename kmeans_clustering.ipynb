{
 "cells": [
  {
   "cell_type": "code",
   "execution_count": null,
   "id": "e9d58567-75f0-450e-b550-89314ed5bd07",
   "metadata": {},
   "outputs": [],
   "source": [
    "import pandas as pd\n",
    "import matplotlib.pyplot as plt\n",
    "import seaborn as sns\n",
    "from sklearn.cluster import KMeans\n",
    "from sklearn.preprocessing import StandardScaler\n",
    "\n",
    "# Data Loading: Reads the dataset and assigns column names\n",
    "data = pd.read_csv('House_Price_dataset.csv', error_bad_lines=False, skip_blank_lines=True)\n",
    "data.columns = [\n",
    "    \"CRIM\", \"ZN\", \"INDUS\", \"CHAS\", \"NOX\", \"RM\", \"AGE\", \n",
    "    \"DIS\", \"RAD\", \"TAX\", \"PTRATIO\", \"B\", \"LSTAT\", \"MEDV\"\n",
    "]\n",
    "\n",
    "# Preprocessing: Drops missing values and selects features for clustering\n",
    "data = data.dropna()\n",
    "features = data[[\"RM\", \"LSTAT\", \"CRIM\"]]\n",
    "scaler = StandardScaler()  # Normalizes data for clustering\n",
    "scaled_features = scaler.fit_transform(features)\n",
    "\n",
    "# Clustering: Groups data into 3 clusters and appends labels to the dataset\n",
    "kmeans = KMeans(n_clusters=3, random_state=42)\n",
    "clusters = kmeans.fit_predict(scaled_features)\n",
    "data['Cluster'] = clusters\n",
    "\n",
    "# Visualization: Scatter plot for clusters and box plot for crime rate\n",
    "plt.figure(figsize=(10, 6))\n",
    "sns.scatterplot(data=data, x='RM', y='LSTAT', hue='Cluster', palette='viridis')\n",
    "plt.title(\"K-Means Clustering: RM vs LSTAT\")\n",
    "plt.xlabel(\"Average Number of Rooms (RM)\")\n",
    "plt.ylabel(\"Lower Status Population (%)\")\n",
    "plt.legend(title=\"Cluster\")\n",
    "plt.show()\n",
    "\n",
    "plt.figure(figsize=(10, 6))\n",
    "sns.boxplot(data=data, x='Cluster', y='CRIM', palette='viridis')\n",
    "plt.title(\"Box Plot of Crime Rate by Cluster\")\n",
    "plt.xlabel(\"Cluster\")\n",
    "plt.ylabel(\"Crime Rate (CRIM)\")\n",
    "plt.show()"
   ]
  }
 ],
 "metadata": {
  "kernelspec": {
   "display_name": "Python 3 (ipykernel)",
   "language": "python",
   "name": "python3"
  },
  "language_info": {
   "codemirror_mode": {
    "name": "ipython",
    "version": 3
   },
   "file_extension": ".py",
   "mimetype": "text/x-python",
   "name": "python",
   "nbconvert_exporter": "python",
   "pygments_lexer": "ipython3",
   "version": "3.12.1"
  }
 },
 "nbformat": 4,
 "nbformat_minor": 5
}
